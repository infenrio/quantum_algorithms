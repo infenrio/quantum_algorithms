{
 "cells": [
  {
   "cell_type": "markdown",
   "id": "aae0f344",
   "metadata": {},
   "source": [
    "$ \\newcommand{\\bra}[1]{\\langle #1|} $\n",
    "$ \\newcommand{\\ket}[1]{|#1\\rangle} $"
   ]
  },
  {
   "cell_type": "markdown",
   "id": "725fddac",
   "metadata": {},
   "source": [
    "<h1>Without phase estimation - parametrized solution</h1>\n",
    "\n",
    "Here we update the implementation of the algorithm \"Detecting a marked vertex\" from the paper Quantum walk speedup of backtracking algorithms by Ashley Montanaro.\n",
    "\n",
    "We do not use Phase estimation here. Instead, we do a probabilistic sampling:\n",
    "$$\\frac{1}{m} \\sum_{i=0}^{m-1} |\\bra{00 ... 0} (R_B R_A)^i \\ket{00 ... 0}|^2$$\n",
    "\n",
    "The idea is taht we apply the operator $R_B R_A$ to the initial state $\\ket{00 ... 0}$ for random number of times (between 0 and $2^k - 1$, where we pick $k$ as the number of bits of precision. If there are no marked vertices, then probability of measuring state $\\ket{00 ... 0}$ will not exceed $\\frac{1}{2}$, while in case of at least one marked vertex probability will be at least $60 \\%$.\n",
    "\n",
    "Keep in mind that in order to ensure the probabilities we changed transformation $D_r$, where $r$ is denoting root vertex (specifically, state $\\psi_r$)."
   ]
  },
  {
   "cell_type": "markdown",
   "id": "0330b968",
   "metadata": {},
   "source": [
    "<h2>Parameters</h2>"
   ]
  },
  {
   "cell_type": "code",
   "execution_count": 1,
   "id": "57cbf943",
   "metadata": {},
   "outputs": [],
   "source": [
    "num_of_layers = 3\n",
    "bits_of_precision = 5"
   ]
  },
  {
   "cell_type": "markdown",
   "id": "4794edc7",
   "metadata": {},
   "source": [
    "<h2>Generating layers - qubit basis state labels</h2>"
   ]
  },
  {
   "cell_type": "code",
   "execution_count": 2,
   "id": "45df9ca6",
   "metadata": {},
   "outputs": [
    {
     "name": "stdout",
     "output_type": "stream",
     "text": [
      "[['000000'], ['000001', '000010'], ['000101', '001001', '000110', '001010'], ['010101', '100101', '011001', '101001', '010110', '100110', '011010', '101010']]\n"
     ]
    }
   ],
   "source": [
    "item_size = 2*num_of_layers\n",
    "root = ''\n",
    "for i in range(num_of_layers):\n",
    "    root += '00'\n",
    "layers = [[root]]\n",
    "\n",
    "for cur_layer in range(1,num_of_layers+1):\n",
    "    layers.append([])\n",
    "    for i in (layers[cur_layer-1]):\n",
    "        postfix = i[item_size-(cur_layer-1)*2:]\n",
    "        prefix = ''\n",
    "        for j in range(item_size-(cur_layer)*2):\n",
    "            prefix += '0'\n",
    "        layers[cur_layer].append(prefix+'01'+postfix)\n",
    "        layers[cur_layer].append(prefix+'10'+postfix)\n",
    "print(layers)"
   ]
  },
  {
   "cell_type": "markdown",
   "id": "24cf9f0b",
   "metadata": {},
   "source": [
    "<h2>Array for $\\psi$</h2>"
   ]
  },
  {
   "cell_type": "code",
   "execution_count": 3,
   "id": "5a44834f",
   "metadata": {},
   "outputs": [],
   "source": [
    "psi = {}"
   ]
  },
  {
   "cell_type": "markdown",
   "id": "419470eb",
   "metadata": {},
   "source": [
    "<h2>Preparing root</h2>\n",
    "<h3>$\\ket{\\psi_{00}}=\\frac{1}{\\sqrt{1+2*num\\_of\\_layers*4}}(\\ket{00}+\\sqrt{num\\_of\\_layers*4}\\ket{01}+\\sqrt{num\\_of\\_layers*4}\\ket{10})$</h3>"
   ]
  },
  {
   "cell_type": "code",
   "execution_count": 4,
   "id": "d6d268ad",
   "metadata": {},
   "outputs": [
    {
     "data": {
      "image/png": "[encoded data removed]",
      "text/plain": [
       "<Figure size 400.433x144.48 with 1 Axes>"
      ]
     },
     "execution_count": 4,
     "metadata": {},
     "output_type": "execute_result"
    }
   ],
   "source": [
    "from qiskit import QuantumRegister, ClassicalRegister, QuantumCircuit, execute, Aer\n",
    "from math import pi, sqrt\n",
    "qc = QuantumCircuit(2)\n",
    "\n",
    "desired_vector = [\n",
    "    1/sqrt(1+2*(num_of_layers*4)), # 00\n",
    "    sqrt(num_of_layers*4)/sqrt(1+2*(num_of_layers*4)), # 01\n",
    "    sqrt(num_of_layers*4)/sqrt(1+2*(num_of_layers*4)), # 10\n",
    "    0 #11\n",
    "]\n",
    "\n",
    "q = QuantumRegister(2)\n",
    "qc = QuantumCircuit(q)\n",
    "\n",
    "qc.initialize(desired_vector, [q[0],q[1]])\n",
    "qc2 = qc.decompose().decompose().decompose().decompose().decompose()\n",
    "\n",
    "qc2.draw(output='mpl')"
   ]
  },
  {
   "cell_type": "code",
   "execution_count": 6,
   "id": "90407dd1",
   "metadata": {},
   "outputs": [
    {
     "data": {
      "text/html": [
       "<pre style=\"word-wrap: normal;white-space: pre;background: #fff0;line-height: 1.1;font-family: &quot;Courier New&quot;,Courier,monospace\">     ┌────────────────┐┌───┐┌────────────────┐┌───┐\n",
       "q_0: ┤ U3(1.2898,0,0) ├┤ X ├┤ U3(1.2898,0,0) ├┤ X ├\n",
       "     ├────────────────┤└─┬─┘└────────────────┘└─┬─┘\n",
       "q_1: ┤ U3(1.5308,0,0) ├──■──────────────────────■──\n",
       "     └────────────────┘                            \n",
       "q_2: ──────────────────────────────────────────────\n",
       "                                                   \n",
       "q_3: ──────────────────────────────────────────────\n",
       "                                                   \n",
       "q_4: ──────────────────────────────────────────────\n",
       "                                                   \n",
       "q_5: ──────────────────────────────────────────────\n",
       "                                                   </pre>"
      ],
      "text/plain": [
       "     ┌────────────────┐┌───┐┌────────────────┐┌───┐\n",
       "q_0: ┤ U3(1.2898,0,0) ├┤ X ├┤ U3(1.2898,0,0) ├┤ X ├\n",
       "     ├────────────────┤└─┬─┘└────────────────┘└─┬─┘\n",
       "q_1: ┤ U3(1.5308,0,0) ├──■──────────────────────■──\n",
       "     └────────────────┘                            \n",
       "q_2: ──────────────────────────────────────────────\n",
       "                                                   \n",
       "q_3: ──────────────────────────────────────────────\n",
       "                                                   \n",
       "q_4: ──────────────────────────────────────────────\n",
       "                                                   \n",
       "q_5: ──────────────────────────────────────────────\n",
       "                                                   "
      ]
     },
     "execution_count": 6,
     "metadata": {},
     "output_type": "execute_result"
    }
   ],
   "source": [
    "from qiskit import QuantumRegister, ClassicalRegister, QuantumCircuit, execute, Aer\n",
    "from math import pi\n",
    "\n",
    "psi[layers[0][0]] = QuantumCircuit(2*num_of_layers)\n",
    "psi[layers[0][0]].u3(qc2.data[1][0].params[0],0,0,0)\n",
    "psi[layers[0][0]].u3(qc2.data[3][0].params[0],0,0,1)\n",
    "psi[layers[0][0]].cx(1,0)\n",
    "psi[layers[0][0]].u3(qc2.data[5][0].params[0],0,0,0)\n",
    "psi[layers[0][0]].cx(1,0)\n",
    "\n",
    "psi[layers[0][0]].draw()"
   ]
  },
  {
   "cell_type": "markdown",
   "id": "a42314de",
   "metadata": {},
   "source": [
    "<h2>States</h2>"
   ]
  },
  {
   "cell_type": "code",
   "execution_count": 7,
   "id": "a4397653",
   "metadata": {},
   "outputs": [],
   "source": [
    "from qiskit import QuantumRegister, ClassicalRegister, QuantumCircuit, execute, Aer\n",
    "from math import pi\n",
    "\n",
    "for m in range(1,num_of_layers):\n",
    "    for k in layers[m]:\n",
    "        psi[k] = QuantumCircuit(num_of_layers*2)\n",
    "        for l in range(num_of_layers*2):\n",
    "            if k[l] == '1':\n",
    "                psi[k].x(len(k)-l-1)\n",
    "        psi[k].u3(pi/4,0,0,2*m)\n",
    "        psi[k].u3(1.23095941734,0,0,2*m+1)\n",
    "        psi[k].cx(2*m+1,2*m)\n",
    "        psi[k].u3(pi/4,0,0,2*m)\n",
    "        psi[k].cx(2*m+1,2*m)\n",
    "        \n",
    "for k in layers[num_of_layers]:\n",
    "    psi[k] = QuantumCircuit(num_of_layers*2)\n",
    "    for l in range(len(k)):\n",
    "        if k[l] == '1':\n",
    "            psi[k].x(len(k)-l-1)"
   ]
  },
  {
   "cell_type": "markdown",
   "id": "34b4405d",
   "metadata": {},
   "source": [
    "<h2>Operators</h2>"
   ]
  },
  {
   "cell_type": "code",
   "execution_count": 8,
   "id": "9110864c",
   "metadata": {},
   "outputs": [],
   "source": [
    "from qiskit import QuantumRegister, ClassicalRegister, QuantumCircuit, execute, Aer\n",
    "from math import pi\n",
    "\n",
    "identity_minus_state_zero = QuantumCircuit(num_of_layers*2)\n",
    "\n",
    "for i in range(num_of_layers*2):\n",
    "    identity_minus_state_zero.x(i)\n",
    "\n",
    "control_states = []\n",
    "for i in range(num_of_layers*2-1):\n",
    "    control_states.append(i)\n",
    "    \n",
    "identity_minus_state_zero.h(num_of_layers*2-1)\n",
    "identity_minus_state_zero.mct(control_states, num_of_layers*2-1)\n",
    "identity_minus_state_zero.h(num_of_layers*2-1)\n",
    "\n",
    "for i in range(num_of_layers*2):\n",
    "    identity_minus_state_zero.x(i)\n",
    "\n",
    "d={}\n",
    "for j in layers:\n",
    "    for i in j: \n",
    "        d[i] = QuantumCircuit(num_of_layers*2)\n",
    "        d[i] = d[i].compose(psi[i].inverse())\n",
    "        d[i] = d[i].compose(identity_minus_state_zero)\n",
    "        d[i] = d[i].compose(psi[i])"
   ]
  },
  {
   "cell_type": "markdown",
   "id": "87fb5352",
   "metadata": {},
   "source": [
    "<h2>Implementation</h2>\n",
    "\n",
    "Here we repeat experiment with applying $R_BR_A$ for $i$ times for each $0 \\leq i \\leq 2^k-1$ and gather the total probability of observing state $\\ket{00 ... 0}$."
   ]
  },
  {
   "cell_type": "code",
   "execution_count": 9,
   "id": "8f1fdd70",
   "metadata": {},
   "outputs": [],
   "source": [
    "marked=['010101']"
   ]
  },
  {
   "cell_type": "code",
   "execution_count": 10,
   "id": "1d6bad09",
   "metadata": {
    "scrolled": true
   },
   "outputs": [
    {
     "name": "stdout",
     "output_type": "stream",
     "text": [
      "marked: [010101], outcome: \n",
      "experiment: 0\n",
      "100.0 %\n",
      "experiment: 1\n",
      "84.52 %\n",
      "experiment: 2\n",
      "80.39 %\n",
      "experiment: 3\n",
      "82.11 %\n",
      "experiment: 4\n",
      "61.01 %\n",
      "experiment: 5\n",
      "58.56 %\n",
      "experiment: 6\n",
      "53.38 %\n",
      "experiment: 7\n",
      "43.04 %\n",
      "experiment: 8\n",
      "45.5 %\n",
      "experiment: 9\n",
      "43.0 %\n",
      "experiment: 10\n",
      "39.64 %\n",
      "experiment: 11\n",
      "55.05 %\n",
      "experiment: 12\n",
      "55.04 %\n",
      "experiment: 13\n",
      "60.31 %\n",
      "experiment: 14\n",
      "80.23 %\n",
      "experiment: 15\n",
      "79.82 %\n",
      "experiment: 16\n",
      "85.89 %\n",
      "experiment: 17\n",
      "95.9 %\n",
      "experiment: 18\n",
      "82.52 %\n",
      "experiment: 19\n",
      "85.84 %\n",
      "experiment: 20\n",
      "80.25 %\n",
      "experiment: 21\n",
      "61.7 %\n",
      "experiment: 22\n",
      "64.1 %\n",
      "experiment: 23\n",
      "53.9 %\n",
      "experiment: 24\n",
      "40.7 %\n",
      "experiment: 25\n",
      "46.77 %\n",
      "experiment: 26\n",
      "41.86 %\n",
      "experiment: 27\n",
      "40.0 %\n",
      "experiment: 28\n",
      "52.5 %\n",
      "experiment: 29\n",
      "51.77 %\n",
      "experiment: 30\n",
      "63.64 %\n",
      "experiment: 31\n",
      "77.97 %\n",
      "final probability: 0.639659375\n"
     ]
    }
   ],
   "source": [
    "from qiskit import QuantumRegister, ClassicalRegister, QuantumCircuit, execute, Aer\n",
    "from math import pi\n",
    "from qiskit.circuit.library import QFT\n",
    "from datetime import datetime\n",
    "import time\n",
    "\n",
    "r_a = QuantumCircuit(num_of_layers*2)\n",
    "\n",
    "# root\n",
    "r_a = r_a.compose(d[layers[0][0]])\n",
    "\n",
    "\n",
    "for i in range(1,num_of_layers+1):\n",
    "    if i%2 == 0:\n",
    "        for j in layers[i]:\n",
    "            if not j in marked:\n",
    "                r_a = r_a.compose(d[j])\n",
    "    \n",
    "r_b = QuantumCircuit(num_of_layers*2)\n",
    "\n",
    "for i in range(1,num_of_layers+1):\n",
    "    if i%2 == 1:\n",
    "        for j in layers[i]:\n",
    "            if not j in marked:\n",
    "                r_b = r_b.compose(d[j])\n",
    "\n",
    "rbra = r_a\n",
    "rbra = rbra.compose(r_b)\n",
    "\n",
    "print('marked: ['+', '.join(marked)+'], outcome: ')\n",
    "n = ''\n",
    "n = n.zfill(num_of_layers*2)\n",
    "\n",
    "composed_rbra = QuantumCircuit(num_of_layers*2)\n",
    "summation = 0\n",
    "for experiment in range(2**bits_of_precision):\n",
    "    circuit = QuantumCircuit(num_of_layers*2,num_of_layers*2)\n",
    "    circuit = circuit.compose(composed_rbra)\n",
    "    circuit.measure(range(num_of_layers*2),range(num_of_layers*2))\n",
    "    job = execute(circuit,Aer.get_backend('qasm_simulator'),shots=10000)\n",
    "    counts = job.result().get_counts(circuit)\n",
    "    result = counts.get(n, 0)\n",
    "    print('experiment:',experiment)\n",
    "    print(result/100,'%')\n",
    "    #print(counts)\n",
    "    summation += result\n",
    "    composed_rbra = composed_rbra.compose(rbra)\n",
    "print('final probability:',summation/(10000*(2**bits_of_precision)))"
   ]
  },
  {
   "cell_type": "code",
   "execution_count": null,
   "id": "f0974844",
   "metadata": {},
   "outputs": [],
   "source": []
  }
 ],
 "metadata": {
  "kernelspec": {
   "display_name": "Python 3",
   "language": "python",
   "name": "python3"
  },
  "language_info": {
   "codemirror_mode": {
    "name": "ipython",
    "version": 3
   },
   "file_extension": ".py",
   "mimetype": "text/x-python",
   "name": "python",
   "nbconvert_exporter": "python",
   "pygments_lexer": "ipython3",
   "version": "3.8.8"
  }
 },
 "nbformat": 4,
 "nbformat_minor": 5
}
