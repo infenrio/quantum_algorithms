{
 "cells": [
  {
   "cell_type": "markdown",
   "id": "a3e5513d",
   "metadata": {},
   "source": [
    "$ \\newcommand{\\ket}[1]{|#1\\rangle} $"
   ]
  },
  {
   "cell_type": "markdown",
   "id": "2a49961c",
   "metadata": {},
   "source": [
    "<h1>DAG size estimation</h1>\n",
    "\n",
    "Here we implement an algorithm for DAG size estimation from paper \"Quantum algorithm for tree size estimation, with applications to backtracking and 2-player games\" by Andris Ambainis and Martins Kokainis.\n",
    "\n",
    "We implement it for a complete binary tree with the given number of layers. Additional parameter is remove_pair_count that allows to remove pairs of leaves from the tree. This parameter is used to test the algorithm for different number of edges."
   ]
  },
  {
   "cell_type": "markdown",
   "id": "5037bc07",
   "metadata": {},
   "source": [
    "<h3>Parameters</h3>\n",
    "\n",
    "num_of_layers = distance from the root to farthest leaf, $n$ in paper\n",
    "\n",
    "bits_of_precision - how many qubits will be used in Phase estimation (eigenvalue estimation), minimal value is $\\lceil \\log \\frac{1}{\\delta_{min}} \\rceil$\n",
    "\n",
    "currently, $\\delta_{min} = \\frac{\\delta^{1.5}}{4\\sqrt{3nT_0}}$.\n",
    "\n",
    "$\\alpha = \\sqrt{2n\\delta^{-1}}$"
   ]
  },
  {
   "cell_type": "code",
   "execution_count": 1,
   "id": "10022948",
   "metadata": {},
   "outputs": [
    {
     "name": "stdout",
     "output_type": "stream",
     "text": [
      "8\n",
      "number of bits of precision needed: 8.897929641609888\n",
      "alpha = 5.163977794943222\n"
     ]
    }
   ],
   "source": [
    "from math import sqrt, log\n",
    "num_of_layers = 2\n",
    "bits_of_precision = 9\n",
    "delta = 0.15\n",
    "t0 = 2**(num_of_layers+1)\n",
    "print(t0)\n",
    "delta_min = delta**1.5/(4*sqrt(3*num_of_layers*t0))\n",
    "print('number of bits of precision needed:',log(1/delta_min,2))\n",
    "remove_pair_count = 1\n",
    "alpha = sqrt(2*num_of_layers/delta)\n",
    "print('alpha =',alpha)"
   ]
  },
  {
   "cell_type": "markdown",
   "id": "5b184d17",
   "metadata": {},
   "source": [
    "<h3>Preparing qubit indecies</h3>\n",
    "\n",
    "We use '00', '01', and '10' to mark edges and parents/children. Overall, we have a full binary tree with/without 2 neighbor leaves removed."
   ]
  },
  {
   "cell_type": "code",
   "execution_count": 2,
   "id": "2a6dc782",
   "metadata": {},
   "outputs": [
    {
     "name": "stdout",
     "output_type": "stream",
     "text": [
      "Initial edge structure\n",
      "[['0000'], ['0001', '0010'], ['0101', '1001', '0110', '1010']]\n",
      "Final edge structure\n",
      "[['0000'], ['0001', '0010'], ['0101', '1001']]\n"
     ]
    }
   ],
   "source": [
    "item_size = 2*num_of_layers\n",
    "root = ''\n",
    "for i in range(num_of_layers):\n",
    "    root += '00'\n",
    "layers = [[root]]\n",
    "\n",
    "for cur_layer in range(1,num_of_layers+1):\n",
    "    layers.append([])\n",
    "    for i in (layers[cur_layer-1]):\n",
    "        postfix = i[item_size-(cur_layer-1)*2:]\n",
    "        prefix = ''\n",
    "        for j in range(item_size-(cur_layer)*2):\n",
    "            prefix += '0'\n",
    "        layers[cur_layer].append(prefix+'01'+postfix)\n",
    "        layers[cur_layer].append(prefix+'10'+postfix)\n",
    "psi = {}\n",
    "\n",
    "print('Initial edge structure')\n",
    "print(layers)\n",
    "for i in range(remove_pair_count):\n",
    "    layers[num_of_layers].pop()\n",
    "    layers[num_of_layers].pop()\n",
    "print('Final edge structure')\n",
    "print(layers)"
   ]
  },
  {
   "cell_type": "markdown",
   "id": "c8d4b625",
   "metadata": {},
   "source": [
    "<h3>Preparing the circuit for $\\ket{s_{v_1}}$</h3>"
   ]
  },
  {
   "cell_type": "code",
   "execution_count": 3,
   "id": "a16adb04",
   "metadata": {},
   "outputs": [
    {
     "data": {
      "text/html": [
       "<pre style=\"word-wrap: normal;white-space: pre;background: #fff0;line-height: 1.1;font-family: &quot;Courier New&quot;,Courier,monospace\">           ┌───────────────┐ ┌───┐┌───────────────┐┌───┐\n",
       "q0_0: ─|0>─┤ R(1.3795,π/2) ├─┤ X ├┤ R(1.3795,π/2) ├┤ X ├\n",
       "           ├───────────────┴┐└─┬─┘└───────────────┘└─┬─┘\n",
       "q0_1: ─|0>─┤ U3(1.5524,0,0) ├──■─────────────────────■──\n",
       "           └────────────────┘                           </pre>"
      ],
      "text/plain": [
       "           ┌───────────────┐ ┌───┐┌───────────────┐┌───┐\n",
       "q0_0: ─|0>─┤ R(1.3795,π/2) ├─┤ X ├┤ R(1.3795,π/2) ├┤ X ├\n",
       "           ├───────────────┴┐└─┬─┘└───────────────┘└─┬─┘\n",
       "q0_1: ─|0>─┤ U3(1.5524,0,0) ├──■─────────────────────■──\n",
       "           └────────────────┘                           "
      ]
     },
     "execution_count": 3,
     "metadata": {},
     "output_type": "execute_result"
    }
   ],
   "source": [
    "from qiskit import QuantumRegister, ClassicalRegister, QuantumCircuit, execute, Aer\n",
    "from math import pi, sqrt\n",
    "qc = QuantumCircuit(2)\n",
    "\n",
    "sum_of_squares = 1 + 2*(alpha**2)\n",
    "\n",
    "desired_vector = [\n",
    "    1/sum_of_squares**0.5, # 00\n",
    "    alpha/sum_of_squares**0.5, # 01\n",
    "    alpha/sum_of_squares**0.5, # 10\n",
    "    0 #11\n",
    "]\n",
    "\n",
    "q = QuantumRegister(2)\n",
    "qc = QuantumCircuit(q)\n",
    "\n",
    "qc.initialize(desired_vector, [q[0],q[1]])\n",
    "qc2 = qc.decompose().decompose().decompose().decompose().decompose()\n",
    "\n",
    "qc2.draw()"
   ]
  },
  {
   "cell_type": "code",
   "execution_count": 5,
   "id": "a6d1bcb0",
   "metadata": {},
   "outputs": [
    {
     "data": {
      "text/html": [
       "<pre style=\"word-wrap: normal;white-space: pre;background: #fff0;line-height: 1.1;font-family: &quot;Courier New&quot;,Courier,monospace\">                                                                     \n",
       "q_0: ────────■─────────────────■───────────■──────────■───────────■──\n",
       "     ┌───────┴────────┐        │         ┌─┴─┐┌───────┴────────┐┌─┴─┐\n",
       "q_1: ┤ U3(1.3795,0,0) ├────────┼─────────┤ X ├┤ U3(1.3795,0,0) ├┤ X ├\n",
       "     └────────────────┘┌───────┴────────┐└─┬─┘└────────────────┘└─┬─┘\n",
       "q_2: ──────────────────┤ U3(1.5524,0,0) ├──■──────────────────────■──\n",
       "                       └────────────────┘                            \n",
       "q_3: ────────────────────────────────────────────────────────────────\n",
       "                                                                     \n",
       "q_4: ────────────────────────────────────────────────────────────────\n",
       "                                                                     </pre>"
      ],
      "text/plain": [
       "                                                                     \n",
       "q_0: ────────■─────────────────■───────────■──────────■───────────■──\n",
       "     ┌───────┴────────┐        │         ┌─┴─┐┌───────┴────────┐┌─┴─┐\n",
       "q_1: ┤ U3(1.3795,0,0) ├────────┼─────────┤ X ├┤ U3(1.3795,0,0) ├┤ X ├\n",
       "     └────────────────┘┌───────┴────────┐└─┬─┘└────────────────┘└─┬─┘\n",
       "q_2: ──────────────────┤ U3(1.5524,0,0) ├──■──────────────────────■──\n",
       "                       └────────────────┘                            \n",
       "q_3: ────────────────────────────────────────────────────────────────\n",
       "                                                                     \n",
       "q_4: ────────────────────────────────────────────────────────────────\n",
       "                                                                     "
      ]
     },
     "execution_count": 5,
     "metadata": {},
     "output_type": "execute_result"
    }
   ],
   "source": [
    "from qiskit import QuantumRegister, ClassicalRegister, QuantumCircuit, execute, Aer\n",
    "from math import pi\n",
    "\n",
    "psi[layers[0][0]] = QuantumCircuit(2*num_of_layers+1)\n",
    "psi[layers[0][0]].cu3(qc2.data[1][0].params[0],0,0,0,1)\n",
    "psi[layers[0][0]].cu3(qc2.data[3][0].params[0],0,0,0,2)\n",
    "psi[layers[0][0]].ccx(0,2,1)\n",
    "psi[layers[0][0]].cu3(qc2.data[5][0].params[0],0,0,0,1)\n",
    "psi[layers[0][0]].ccx(0,2,1)\n",
    "\n",
    "psi[layers[0][0]].draw()"
   ]
  },
  {
   "cell_type": "markdown",
   "id": "bcd612df",
   "metadata": {},
   "source": [
    "<h3>Preparing circuits for other $\\ket{s_{v}}$</h3>"
   ]
  },
  {
   "cell_type": "code",
   "execution_count": 6,
   "id": "473d5ab3",
   "metadata": {},
   "outputs": [],
   "source": [
    "from qiskit import QuantumRegister, ClassicalRegister, QuantumCircuit, execute, Aer\n",
    "from math import pi\n",
    "\n",
    "for m in range(1,num_of_layers-1):\n",
    "    for k in layers[m]:\n",
    "        psi[k] = QuantumCircuit(num_of_layers*2+1)\n",
    "        for l in range(num_of_layers*2):\n",
    "            if k[l] == '1':\n",
    "                psi[k].cx(0,len(k)-l)\n",
    "        psi[k].cu3(pi/4,0,0,0,2*m+1)\n",
    "        psi[k].cu3(1.23095941734,0,0,0,2*m+2)\n",
    "        psi[k].ccx(2*m+2,0,2*m+1)\n",
    "        psi[k].cu3(pi/4,0,0,0,2*m+1)\n",
    "        psi[k].ccx(2*m+2,0,2*m+1)\n",
    "\n",
    "        \n",
    "list_of_chageable_vertices = []\n",
    "for i in range(1,remove_pair_count+1):\n",
    "    list_of_chageable_vertices.append(-i)\n",
    "        \n",
    "for k in layers[num_of_layers-1]:\n",
    "    psi[k] = QuantumCircuit(num_of_layers*2+1)\n",
    "    is_changeable_vertex = False\n",
    "    for i in list_of_chageable_vertices:\n",
    "        if(k == layers[num_of_layers-1][i]):\n",
    "            is_changeable_vertex = True\n",
    "    if(is_changeable_vertex):\n",
    "        for l in range(len(k)):\n",
    "            if k[l] == '1':\n",
    "                psi[k].cx(0,len(k)-l)\n",
    "    else:\n",
    "        for l in range(num_of_layers*2):\n",
    "            if k[l] == '1':\n",
    "                psi[k].cx(0,len(k)-l)\n",
    "        psi[k].cu3(pi/4,0,0,0,2*(num_of_layers-1)+1)\n",
    "        psi[k].cu3(1.23095941734,0,0,0,2*(num_of_layers-1)+2)\n",
    "        psi[k].ccx(2*(num_of_layers-1)+2,0,2*(num_of_layers-1)+1)\n",
    "        psi[k].cu3(pi/4,0,0,0,2*(num_of_layers-1)+1)\n",
    "        psi[k].ccx(2*(num_of_layers-1)+2,0,2*(num_of_layers-1)+1)\n",
    "        \n",
    "for k in layers[num_of_layers]:\n",
    "    psi[k] = QuantumCircuit(num_of_layers*2+1)\n",
    "    for l in range(len(k)):\n",
    "        if k[l] == '1':\n",
    "            psi[k].cx(0,len(k)-l)"
   ]
  },
  {
   "cell_type": "markdown",
   "id": "14761a93",
   "metadata": {},
   "source": [
    "<h3>Preparing $D_v$ operators for each vertex</h3>"
   ]
  },
  {
   "cell_type": "code",
   "execution_count": 7,
   "id": "96cff49a",
   "metadata": {},
   "outputs": [],
   "source": [
    "from qiskit import QuantumRegister, ClassicalRegister, QuantumCircuit, execute, Aer\n",
    "from math import pi\n",
    "\n",
    "identity_minus_state_zero = QuantumCircuit(num_of_layers*2+1)\n",
    "\n",
    "for i in range(num_of_layers*2):\n",
    "    identity_minus_state_zero.cx(0,i+1)\n",
    "\n",
    "control_states = []\n",
    "for i in range(num_of_layers*2):\n",
    "    control_states.append(i)\n",
    "\n",
    "identity_minus_state_zero.h(num_of_layers*2)\n",
    "identity_minus_state_zero.mct(control_states, num_of_layers*2)\n",
    "identity_minus_state_zero.h(num_of_layers*2)\n",
    "\n",
    "for i in range(num_of_layers*2):\n",
    "    identity_minus_state_zero.cx(0,i+1)\n",
    "\n",
    "d={}\n",
    "for j in layers:\n",
    "    for i in j: \n",
    "        d[i] = QuantumCircuit(num_of_layers*2+1)\n",
    "        d[i] = d[i].compose(psi[i].inverse())\n",
    "        d[i] = d[i].compose(identity_minus_state_zero)\n",
    "        d[i] = d[i].compose(psi[i])"
   ]
  },
  {
   "cell_type": "markdown",
   "id": "50d11fe5",
   "metadata": {},
   "source": [
    "<h3>Eigenvalue estimation</h3>"
   ]
  },
  {
   "cell_type": "code",
   "execution_count": 8,
   "id": "d91a99d9",
   "metadata": {},
   "outputs": [
    {
     "name": "stdout",
     "output_type": "stream",
     "text": [
      "{'000010000': 2989, '111110000': 2972, '000001111': 1117, '111110001': 1063, '000010001': 238, '111101111': 232, '000001110': 177, '111110010': 152, '000010010': 79, '111101110': 74, '010011100': 69, '000001101': 68, '111110011': 64, '101100100': 63, '000010011': 44, '111101101': 41, '000001100': 41, '111110100': 40, '000010100': 31, '111110101': 28, '000001011': 22, '111101100': 21, '111110110': 16, '111101011': 16, '000001010': 14, '111101010': 14, '111110111': 14, '111100111': 13, '000010101': 13, '000001000': 12, '111101001': 11, '000010110': 11, '000000111': 11, '000001001': 11, '111100110': 9, '000010111': 9, '101100011': 7, '111100101': 7, '000000110': 7, '111111011': 6, '111111110': 6, '000011010': 5, '111111101': 5, '000011000': 5, '000000101': 5, '111111000': 5, '111101000': 5, '000011001': 5, '111111001': 4, '010011011': 4, '111100100': 4, '000000001': 4, '111100001': 3, '111011100': 3, '111100010': 3, '101100101': 3, '000100100': 3, '111011011': 3, '000011100': 3, '111111100': 3, '000011110': 3, '111111111': 3, '000011101': 3, '000000011': 3, '111111010': 3, '111011101': 2, '000101010': 2, '111001111': 2, '010011101': 2, '111000100': 2, '000100011': 2, '000111101': 2, '000100000': 2, '000011011': 2, '000100001': 2, '000000000': 2, '000100111': 2, '010010100': 1, '100101110': 1, '101011101': 1, '100100010': 1, '010000000': 1, '100110111': 1, '000110010': 1, '000011111': 1, '001011011': 1, '010110111': 1, '110000101': 1, '111100011': 1, '100111001': 1, '101000110': 1, '010101011': 1, '001011010': 1, '101110110': 1, '101101001': 1, '001111101': 1, '010001110': 1, '011011000': 1, '000110001': 1, '111010100': 1, '011010111': 1, '001010000': 1, '000100110': 1, '000111010': 1, '000100010': 1, '000111110': 1, '010110110': 1, '110111010': 1, '110000011': 1, '110100101': 1, '111011010': 1, '000101011': 1, '010011110': 1, '100000100': 1, '001000011': 1, '111001010': 1, '111001110': 1, '111000001': 1, '111010111': 1, '001111110': 1, '001111001': 1, '110110101': 1, '110101101': 1, '110001101': 1, '000000100': 1, '000100101': 1, '000110000': 1, '111010110': 1, '111100000': 1, '010011010': 1, '111010001': 1}\n",
      "000010000\n",
      "2989\n"
     ]
    }
   ],
   "source": [
    "from qiskit import QuantumRegister, ClassicalRegister, QuantumCircuit, execute, Aer\n",
    "from math import pi, sin\n",
    "from qiskit.circuit.library import QFT\n",
    "from datetime import datetime\n",
    "import time\n",
    "\n",
    "r_a = QuantumCircuit(num_of_layers*2+1)\n",
    "\n",
    "# root\n",
    "r_a = r_a.compose(d[layers[0][0]])\n",
    "\n",
    "for i in range(1,num_of_layers+1):\n",
    "    if i%2 == 0:\n",
    "        for j in layers[i]:\n",
    "            r_a = r_a.compose(d[j])\n",
    "    \n",
    "r_b = QuantumCircuit(num_of_layers*2+1)\n",
    "\n",
    "for i in range(1,num_of_layers+1):\n",
    "    if i%2 == 1:\n",
    "        for j in layers[i]:\n",
    "            r_b = r_b.compose(d[j])\n",
    "\n",
    "rbra = r_a\n",
    "rbra = rbra.compose(r_b)\n",
    "\n",
    "controlled_rbra = rbra\n",
    "    \n",
    "phase_estimation = QuantumCircuit(num_of_layers*2+bits_of_precision,bits_of_precision)\n",
    "phase_estimation.h(range(bits_of_precision))\n",
    "\n",
    "operation_qubits = []\n",
    "for i in range(bits_of_precision,num_of_layers*2+bits_of_precision):\n",
    "    operation_qubits = operation_qubits+[i]\n",
    "\n",
    "qubits_to_appply = []\n",
    "qubits_to_appply += [0]\n",
    "qubits_to_appply += operation_qubits\n",
    "for j in range(1):\n",
    "    phase_estimation = phase_estimation.compose(controlled_rbra,qubits_to_appply)\n",
    "\n",
    "for i in range(1, bits_of_precision):\n",
    "    qubits_to_appply = []\n",
    "    qubits_to_appply += [i]\n",
    "    qubits_to_appply += operation_qubits\n",
    "    controlled_rbra = controlled_rbra.compose(controlled_rbra)\n",
    "    phase_estimation = phase_estimation.compose(controlled_rbra,qubits_to_appply)\n",
    "\n",
    "phase_estimation.barrier()\n",
    "\n",
    "phase_estimation = phase_estimation.compose(QFT(num_qubits=bits_of_precision, approximation_degree=0, do_swaps=True, inverse=True, insert_barriers=False, name='qft'),range(bits_of_precision))\n",
    "\n",
    "phase_estimation.measure(range(bits_of_precision),range(bits_of_precision))\n",
    "    \n",
    "job = execute(phase_estimation,Aer.get_backend('qasm_simulator'),shots=10000)\n",
    "counts = job.result().get_counts(phase_estimation)\n",
    "\n",
    "ordered_counts = dict(sorted(counts.items(), key=lambda item: item[1],reverse=True))\n",
    "\n",
    "print(ordered_counts)\n",
    "print(list(ordered_counts)[0])\n",
    "print(ordered_counts[list(ordered_counts)[0]])"
   ]
  },
  {
   "cell_type": "markdown",
   "id": "7dad2777",
   "metadata": {},
   "source": [
    "<h3>Converting algorithm outcome to decimal value</h3>"
   ]
  },
  {
   "cell_type": "code",
   "execution_count": 9,
   "id": "2bc899b0",
   "metadata": {},
   "outputs": [
    {
     "name": "stdout",
     "output_type": "stream",
     "text": [
      "16\n"
     ]
    }
   ],
   "source": [
    "decimal_bits = int(list(ordered_counts)[0], 2)\n",
    "print(decimal_bits)"
   ]
  },
  {
   "cell_type": "markdown",
   "id": "39635383",
   "metadata": {},
   "source": [
    "<h3>Computing value T</h3>\n",
    "\n",
    "$\\theta = 2*\\pi*\\frac{decimal\\_bits}{2^{bits\\_of\\_precision}}$\n",
    "\n",
    "$T=\\frac{1}{\\alpha^2 sin^2 \\frac{\\theta}{2}}$"
   ]
  },
  {
   "cell_type": "code",
   "execution_count": 10,
   "id": "096e2b25",
   "metadata": {},
   "outputs": [
    {
     "name": "stdout",
     "output_type": "stream",
     "text": [
      "theta: 0.19634954084936207\n",
      "sin: 0.0980171403295606\n",
      "result: 3.9032575844931547\n"
     ]
    }
   ],
   "source": [
    "theta = 2*pi*decimal_bits/(2**bits_of_precision)\n",
    "print('theta:',theta)\n",
    "result = 1/(alpha*alpha*(sin(theta/2)**2))\n",
    "print('sin:',sin(pi*decimal_bits/(2**bits_of_precision)))\n",
    "print('result:',result)"
   ]
  },
  {
   "cell_type": "code",
   "execution_count": null,
   "id": "3c597d9c",
   "metadata": {},
   "outputs": [],
   "source": []
  }
 ],
 "metadata": {
  "kernelspec": {
   "display_name": "Python 3",
   "language": "python",
   "name": "python3"
  },
  "language_info": {
   "codemirror_mode": {
    "name": "ipython",
    "version": 3
   },
   "file_extension": ".py",
   "mimetype": "text/x-python",
   "name": "python",
   "nbconvert_exporter": "python",
   "pygments_lexer": "ipython3",
   "version": "3.8.8"
  }
 },
 "nbformat": 4,
 "nbformat_minor": 5
}
