{
 "cells": [
  {
   "cell_type": "markdown",
   "id": "aae0f344",
   "metadata": {},
   "source": [
    "$ \\newcommand{\\bra}[1]{\\langle #1|} $\n",
    "$ \\newcommand{\\ket}[1]{|#1\\rangle} $"
   ]
  },
  {
   "cell_type": "markdown",
   "id": "725fddac",
   "metadata": {},
   "source": [
    "<h1>Automated parametrized solution</h1>\n",
    "\n",
    "Here we implement an algorithm \"Detecting a marked vertex\" from the paper Quantum walk speedup of backtracking algorithms by Ashley Montanaro. We implement operations for a complete binary tree, we use two qubits per layer to use basis states that will correspond to specific vertices. Subsection \"Generating layers - qubit basis state labels\" is demonstrating the structure.\n",
    "\n",
    "Remark - from the very beginning each gate is implemented with additional control qubit manually. For some reason automated functionality of Qiskit operator.contol() worked multiple times slower during the simulation."
   ]
  },
  {
   "cell_type": "markdown",
   "id": "0330b968",
   "metadata": {},
   "source": [
    "<h2>Parameters</h2>"
   ]
  },
  {
   "cell_type": "code",
   "execution_count": 8,
   "id": "57cbf943",
   "metadata": {},
   "outputs": [],
   "source": [
    "num_of_layers = 3\n",
    "bits_of_precision = 6"
   ]
  },
  {
   "cell_type": "markdown",
   "id": "4794edc7",
   "metadata": {},
   "source": [
    "<h2>Generating layers - qubit basis state labels</h2>"
   ]
  },
  {
   "cell_type": "code",
   "execution_count": 9,
   "id": "45df9ca6",
   "metadata": {},
   "outputs": [
    {
     "name": "stdout",
     "output_type": "stream",
     "text": [
      "[['000000'], ['000001', '000010'], ['000101', '001001', '000110', '001010'], ['010101', '100101', '011001', '101001', '010110', '100110', '011010', '101010']]\n"
     ]
    }
   ],
   "source": [
    "item_size = 2*num_of_layers\n",
    "root = ''\n",
    "for i in range(num_of_layers):\n",
    "    root += '00'\n",
    "layers = [[root]]\n",
    "\n",
    "for cur_layer in range(1,num_of_layers+1):\n",
    "    layers.append([])\n",
    "    for i in (layers[cur_layer-1]):\n",
    "        postfix = i[item_size-(cur_layer-1)*2:]\n",
    "        prefix = ''\n",
    "        for j in range(item_size-(cur_layer)*2):\n",
    "            prefix += '0'\n",
    "        layers[cur_layer].append(prefix+'01'+postfix)\n",
    "        layers[cur_layer].append(prefix+'10'+postfix)\n",
    "print(layers)"
   ]
  },
  {
   "cell_type": "markdown",
   "id": "24cf9f0b",
   "metadata": {},
   "source": [
    "<h2>Array for $\\psi$</h2>\n",
    "\n",
    "In this part we prepare states $\\ket{\\psi_x}$ for each vertex $x$."
   ]
  },
  {
   "cell_type": "code",
   "execution_count": 10,
   "id": "5a44834f",
   "metadata": {},
   "outputs": [],
   "source": [
    "psi = {}"
   ]
  },
  {
   "cell_type": "markdown",
   "id": "419470eb",
   "metadata": {},
   "source": [
    "<h2>Preparing root</h2>\n",
    "<h3>$\\ket{\\psi_{00}}=\\frac{1}{\\sqrt{1+2*num\\_of\\_layers}}(\\ket{00}+\\sqrt{num\\_of\\_layers}\\ket{01}+\\sqrt{num\\_of\\_layers}\\ket{10})$</h3>"
   ]
  },
  {
   "cell_type": "code",
   "execution_count": 11,
   "id": "d6d268ad",
   "metadata": {},
   "outputs": [],
   "source": [
    "from qiskit import QuantumRegister, ClassicalRegister, QuantumCircuit, execute, Aer\n",
    "from math import pi, sqrt\n",
    "qc = QuantumCircuit(2)\n",
    "\n",
    "desired_vector = [\n",
    "    1/sqrt(1+2*num_of_layers), # 00\n",
    "    sqrt(num_of_layers)/sqrt(1+2*num_of_layers), # 01\n",
    "    sqrt(num_of_layers)/sqrt(1+2*num_of_layers), # 10\n",
    "    0 #11\n",
    "]\n",
    "\n",
    "q = QuantumRegister(2)\n",
    "qc = QuantumCircuit(q)\n",
    "\n",
    "qc.initialize(desired_vector, [q[0],q[1]])\n",
    "qc2 = qc.decompose().decompose().decompose().decompose().decompose()"
   ]
  },
  {
   "cell_type": "code",
   "execution_count": 12,
   "id": "90407dd1",
   "metadata": {},
   "outputs": [
    {
     "data": {
      "text/html": [
       "<pre style=\"word-wrap: normal;white-space: pre;background: #fff0;line-height: 1.1;font-family: &quot;Courier New&quot;,Courier,monospace\">                                                               \n",
       "q_0: ───────■───────────────■───────────■─────────■─────────■──\n",
       "     ┌──────┴──────┐        │         ┌─┴─┐┌──────┴──────┐┌─┴─┐\n",
       "q_1: ┤ U3(π/3,0,0) ├────────┼─────────┤ X ├┤ U3(π/3,0,0) ├┤ X ├\n",
       "     └─────────────┘┌───────┴────────┐└─┬─┘└─────────────┘└─┬─┘\n",
       "q_2: ───────────────┤ U3(1.4274,0,0) ├──■───────────────────■──\n",
       "                    └────────────────┘                         \n",
       "q_3: ──────────────────────────────────────────────────────────\n",
       "                                                               \n",
       "q_4: ──────────────────────────────────────────────────────────\n",
       "                                                               \n",
       "q_5: ──────────────────────────────────────────────────────────\n",
       "                                                               \n",
       "q_6: ──────────────────────────────────────────────────────────\n",
       "                                                               </pre>"
      ],
      "text/plain": [
       "                                                               \n",
       "q_0: ───────■───────────────■───────────■─────────■─────────■──\n",
       "     ┌──────┴──────┐        │         ┌─┴─┐┌──────┴──────┐┌─┴─┐\n",
       "q_1: ┤ U3(π/3,0,0) ├────────┼─────────┤ X ├┤ U3(π/3,0,0) ├┤ X ├\n",
       "     └─────────────┘┌───────┴────────┐└─┬─┘└─────────────┘└─┬─┘\n",
       "q_2: ───────────────┤ U3(1.4274,0,0) ├──■───────────────────■──\n",
       "                    └────────────────┘                         \n",
       "q_3: ──────────────────────────────────────────────────────────\n",
       "                                                               \n",
       "q_4: ──────────────────────────────────────────────────────────\n",
       "                                                               \n",
       "q_5: ──────────────────────────────────────────────────────────\n",
       "                                                               \n",
       "q_6: ──────────────────────────────────────────────────────────\n",
       "                                                               "
      ]
     },
     "execution_count": 12,
     "metadata": {},
     "output_type": "execute_result"
    }
   ],
   "source": [
    "from qiskit import QuantumRegister, ClassicalRegister, QuantumCircuit, execute, Aer\n",
    "from math import pi\n",
    "\n",
    "psi[layers[0][0]] = QuantumCircuit(2*num_of_layers+1)\n",
    "psi[layers[0][0]].cu3(qc2.data[1][0].params[0],0,0,0,1)\n",
    "psi[layers[0][0]].cu3(qc2.data[3][0].params[0],0,0,0,2)\n",
    "psi[layers[0][0]].ccx(0,2,1)\n",
    "psi[layers[0][0]].cu3(qc2.data[5][0].params[0],0,0,0,1)\n",
    "psi[layers[0][0]].ccx(0,2,1)\n",
    "\n",
    "psi[layers[0][0]].draw()"
   ]
  },
  {
   "cell_type": "markdown",
   "id": "a42314de",
   "metadata": {},
   "source": [
    "<h2>States</h2>"
   ]
  },
  {
   "cell_type": "code",
   "execution_count": 13,
   "id": "a4397653",
   "metadata": {},
   "outputs": [],
   "source": [
    "from qiskit import QuantumRegister, ClassicalRegister, QuantumCircuit, execute, Aer\n",
    "from math import pi\n",
    "\n",
    "for m in range(1,num_of_layers):\n",
    "    for k in layers[m]:\n",
    "        psi[k] = QuantumCircuit(num_of_layers*2+1)\n",
    "        for l in range(num_of_layers*2):\n",
    "            if k[l] == '1':\n",
    "                psi[k].cx(0,len(k)-l)\n",
    "        psi[k].cu3(pi/4,0,0,0,2*m+1)\n",
    "        psi[k].cu3(1.23095941734,0,0,0,2*m+2)\n",
    "        psi[k].ccx(2*m+2,0,2*m+1)\n",
    "        psi[k].cu3(pi/4,0,0,0,2*m+1)\n",
    "        psi[k].ccx(2*m+2,0,2*m+1)\n",
    "        \n",
    "for k in layers[num_of_layers]:\n",
    "    psi[k] = QuantumCircuit(num_of_layers*2+1)\n",
    "    for l in range(len(k)):\n",
    "        if k[l] == '1':\n",
    "            psi[k].cx(0,len(k)-l)"
   ]
  },
  {
   "cell_type": "markdown",
   "id": "34b4405d",
   "metadata": {},
   "source": [
    "<h2>Operators</h2>\n",
    "\n",
    "In this part we prepare operators $D_x$ for each vertex $x$. Here $D_x = I - 2 \\ket{\\psi_x} \\bra{\\psi_x}$"
   ]
  },
  {
   "cell_type": "code",
   "execution_count": 14,
   "id": "9110864c",
   "metadata": {},
   "outputs": [],
   "source": [
    "from qiskit import QuantumRegister, ClassicalRegister, QuantumCircuit, execute, Aer\n",
    "from math import pi\n",
    "\n",
    "identity_minus_state_zero = QuantumCircuit(num_of_layers*2+1)\n",
    "\n",
    "for i in range(num_of_layers*2):\n",
    "    identity_minus_state_zero.cx(0,i+1)\n",
    "\n",
    "control_states = []\n",
    "for i in range(num_of_layers*2):\n",
    "    control_states.append(i)\n",
    "\n",
    "identity_minus_state_zero.h(num_of_layers*2)\n",
    "identity_minus_state_zero.mct(control_states, num_of_layers*2)\n",
    "identity_minus_state_zero.h(num_of_layers*2)\n",
    "\n",
    "for i in range(num_of_layers*2):\n",
    "    identity_minus_state_zero.cx(0,i+1)\n",
    "\n",
    "d={}\n",
    "for j in layers:\n",
    "    for i in j: \n",
    "        d[i] = QuantumCircuit(num_of_layers*2+1)\n",
    "        d[i] = d[i].compose(psi[i].inverse())\n",
    "        d[i] = d[i].compose(identity_minus_state_zero)\n",
    "        d[i] = d[i].compose(psi[i])"
   ]
  },
  {
   "cell_type": "markdown",
   "id": "87fb5352",
   "metadata": {},
   "source": [
    "<h2>Implementation</h2>\n",
    "\n",
    "Here we implement phase estimation algorithm. In steps where we prepare the transformation $R_BR_A$, for marked vertices $x$ we place identity operation instead of $D_x$.\n",
    "\n",
    "We provide an array of indexes of marked elements for running the experiment. Array can be left empty for the case of no marked vertices."
   ]
  },
  {
   "cell_type": "code",
   "execution_count": 15,
   "id": "8f1fdd70",
   "metadata": {},
   "outputs": [],
   "source": [
    "marked=['010101','100101']"
   ]
  },
  {
   "cell_type": "code",
   "execution_count": 16,
   "id": "1d6bad09",
   "metadata": {},
   "outputs": [
    {
     "name": "stdout",
     "output_type": "stream",
     "text": [
      "marked: [010101, 100101], outcome: \n",
      "55.5 %\n",
      "{'001000': 297, '110111': 47, '000000': 5550, '110101': 71, '000010': 4, '101011': 296, '100001': 3, '111111': 10, '001010': 161, '001001': 41, '001101': 8, '100100': 282, '111100': 165, '101101': 8, '000100': 132, '110011': 10, '010111': 36, '111110': 3, '100010': 17, '001011': 84, '111000': 259, '001111': 1, '111010': 13, '100110': 67, '111001': 85, '001110': 1, '100101': 39, '111011': 34, '010101': 276, '101000': 127, '000001': 8, '101010': 130, '110110': 167, '110000': 3, '000111': 98, '011000': 149, '010100': 44, '011010': 71, '011110': 15, '010110': 135, '000011': 13, '101100': 43, '110100': 215, '011100': 265, '111101': 8, '100011': 17, '001100': 263, '000110': 7, '110001': 3, '101111': 4, '100000': 20, '010011': 8, '010000': 3, '011011': 34, '110010': 6, '101110': 7, '000101': 37, '100111': 17, '101001': 38, '010010': 7, '011101': 16, '011001': 13, '011111': 7, '010001': 2}\n"
     ]
    }
   ],
   "source": [
    "from qiskit import QuantumRegister, ClassicalRegister, QuantumCircuit, execute, Aer\n",
    "from math import pi\n",
    "from qiskit.circuit.library import QFT\n",
    "\n",
    "r_a = QuantumCircuit(num_of_layers*2+1)\n",
    "\n",
    "# root\n",
    "r_a = r_a.compose(d[layers[0][0]])\n",
    "\n",
    "\n",
    "for i in range(1,num_of_layers+1):\n",
    "    if i%2 == 0:\n",
    "        for j in layers[i]:\n",
    "            if not j in marked:\n",
    "                r_a = r_a.compose(d[j])\n",
    "    \n",
    "r_b = QuantumCircuit(num_of_layers*2+1)\n",
    "\n",
    "for i in range(1,num_of_layers+1):\n",
    "    if i%2 == 1:\n",
    "        for j in layers[i]:\n",
    "            if not j in marked:\n",
    "                r_b = r_b.compose(d[j])\n",
    "\n",
    "rbra = r_a\n",
    "rbra = rbra.compose(r_b)\n",
    "\n",
    "controlled_rbra = rbra\n",
    "    \n",
    "phase_estimation = QuantumCircuit(num_of_layers*2+bits_of_precision,bits_of_precision)\n",
    "phase_estimation.h(range(bits_of_precision))\n",
    "\n",
    "operation_qubits = []\n",
    "for i in range(bits_of_precision,num_of_layers*2+bits_of_precision):\n",
    "    operation_qubits = operation_qubits+[i]\n",
    "\n",
    "qubits_to_appply = []\n",
    "qubits_to_appply += [0]\n",
    "qubits_to_appply += operation_qubits\n",
    "for j in range(1):\n",
    "    phase_estimation = phase_estimation.compose(controlled_rbra,qubits_to_appply)\n",
    "\n",
    "for i in range(1, bits_of_precision):\n",
    "    qubits_to_appply = []\n",
    "    qubits_to_appply += [i]\n",
    "    qubits_to_appply += operation_qubits\n",
    "    controlled_rbra = controlled_rbra.compose(controlled_rbra)\n",
    "    phase_estimation = phase_estimation.compose(controlled_rbra,qubits_to_appply)\n",
    "\n",
    "phase_estimation.barrier()\n",
    "\n",
    "phase_estimation = phase_estimation.compose(QFT(num_qubits=bits_of_precision, approximation_degree=0, do_swaps=False, inverse=True, insert_barriers=False, name='qft'),range(bits_of_precision))\n",
    "\n",
    "phase_estimation.measure(range(bits_of_precision),range(bits_of_precision))\n",
    "    \n",
    "job = execute(phase_estimation,Aer.get_backend('qasm_simulator'),shots=10000)\n",
    "counts = job.result().get_counts(phase_estimation)\n",
    "print('marked: ['+', '.join(marked)+'], outcome: ')\n",
    "n = ''\n",
    "n = n.zfill(bits_of_precision)\n",
    "result = counts.get(n, 0)\n",
    "print(result/100,'%')\n",
    "print(counts)"
   ]
  },
  {
   "cell_type": "markdown",
   "id": "8213cbaf",
   "metadata": {},
   "source": [
    "<h2>Running multiple experiments</h2>\n",
    "\n",
    "We can also run multiple experiments with the code below."
   ]
  },
  {
   "cell_type": "code",
   "execution_count": 17,
   "id": "968b6caf",
   "metadata": {},
   "outputs": [],
   "source": [
    "experiments=[\n",
    "    [],\n",
    "    ['010101'],\n",
    "    ['101010'],\n",
    "    ['100101','010101'],\n",
    "    ['011001','010101'],\n",
    "    ['010110','010101']\n",
    "]"
   ]
  },
  {
   "cell_type": "code",
   "execution_count": 18,
   "id": "7733e3a2",
   "metadata": {},
   "outputs": [
    {
     "name": "stdout",
     "output_type": "stream",
     "text": [
      "experiment started: 2022-06-20 11:39:20\n",
      "experiment ended: 2022-06-20 11:39:24\n",
      "marked: [], outcome: \n",
      "0.12 %\n",
      "{'011000': 2118, '000011': 3, '110100': 153, '101100': 807, '100000': 388, '101000': 2220, '011010': 149, '111011': 14, '001110': 31, '100101': 325, '110011': 7, '000100': 9, '101101': 117, '111110': 8, '100010': 35, '001011': 79, '010100': 794, '110010': 30, '000101': 18, '101110': 121, '000111': 1, '110000': 298, '001111': 16, '100110': 161, '111100': 13, '001101': 10, '100100': 190, '011101': 9, '011011': 322, '010000': 313, '111101': 2, '100011': 7, '001100': 157, '011001': 32, '111000': 80, '110111': 1, '000000': 12, '011100': 191, '010010': 132, '000010': 6, '101011': 29, '110101': 99, '010011': 109, '010101': 36, '101001': 8, '000001': 2, '110110': 13, '101010': 23, '010001': 17, '010110': 22, '100111': 51, '011110': 40, '100001': 8, '111111': 4, '001010': 18, '000110': 4, '110001': 6, '101111': 20, '011111': 6, '010111': 11, '001000': 91, '001001': 2, '111001': 2}\n",
      "experiment started: 2022-06-20 11:39:24\n",
      "experiment ended: 2022-06-20 11:39:29\n",
      "marked: [010101], outcome: \n",
      "50.31 %\n",
      "{'001000': 421, '110111': 42, '000000': 5031, '011111': 27, '111000': 410, '100100': 234, '111100': 404, '001101': 92, '101101': 36, '110011': 97, '000100': 392, '101100': 3, '000011': 15, '110100': 192, '111011': 115, '100101': 212, '001110': 30, '011000': 93, '001111': 12, '100110': 80, '111010': 41, '111111': 6, '001010': 151, '100001': 32, '011101': 96, '101000': 110, '100011': 105, '111101': 15, '001100': 203, '010011': 41, '000001': 9, '110110': 158, '110001': 8, '101111': 21, '000110': 55, '011110': 45, '001011': 6, '111110': 29, '100010': 50, '011011': 222, '011010': 81, '100111': 17, '101110': 13, '110010': 32, '000101': 131, '011100': 220, '100000': 7, '110101': 3, '101011': 3, '000010': 27, '010101': 5, '010001': 11, '011001': 26, '001001': 39, '010100': 6, '010110': 1, '110000': 2, '000111': 10, '010010': 7, '111001': 9, '010111': 4, '010000': 3, '101001': 2}\n",
      "experiment started: 2022-06-20 11:39:29\n",
      "experiment ended: 2022-06-20 11:39:33\n",
      "marked: [101010], outcome: \n",
      "50.67 %\n",
      "{'000000': 5067, '110111': 40, '010100': 8, '001110': 36, '100101': 196, '111011': 126, '011110': 59, '111100': 387, '001101': 110, '100100': 207, '101111': 22, '110001': 12, '000110': 62, '101101': 29, '000100': 368, '110011': 114, '011100': 225, '110101': 1, '101011': 3, '000010': 25, '001000': 464, '011011': 211, '101000': 92, '111000': 400, '100110': 92, '111010': 53, '001111': 12, '111101': 12, '001100': 201, '100011': 98, '000011': 9, '101100': 9, '110100': 199, '101010': 1, '000001': 7, '110110': 140, '000111': 10, '011010': 94, '011000': 90, '011111': 29, '001001': 35, '111111': 6, '100001': 23, '001010': 161, '100111': 23, '011101': 96, '011001': 23, '101110': 11, '110010': 27, '000101': 111, '111110': 27, '100010': 56, '001011': 4, '010011': 20, '010111': 6, '010001': 18, '010010': 5, '100000': 9, '111001': 11, '101001': 5, '010000': 1, '010101': 1, '010110': 1}\n",
      "experiment started: 2022-06-20 11:39:33\n",
      "experiment ended: 2022-06-20 11:39:38\n",
      "marked: [100101, 010101], outcome: \n",
      "54.17 %\n",
      "{'000000': 5417, '110111': 70, '011100': 303, '000011': 5, '110100': 201, '101100': 56, '111001': 85, '100111': 21, '101001': 41, '000001': 11, '110110': 150, '101010': 144, '010111': 47, '000010': 5, '110101': 85, '101011': 317, '011010': 60, '001101': 13, '111100': 140, '100100': 296, '010110': 154, '010011': 6, '100001': 2, '111111': 11, '001010': 170, '111000': 283, '011000': 116, '010101': 333, '001000': 267, '010010': 5, '100011': 14, '111101': 13, '001100': 234, '101101': 6, '110011': 9, '000100': 129, '101000': 135, '110000': 7, '000111': 85, '111110': 1, '100010': 9, '001011': 86, '001110': 3, '100101': 38, '111011': 23, '010000': 9, '011011': 47, '100000': 31, '001001': 66, '011101': 20, '011001': 13, '001111': 2, '100110': 66, '111010': 16, '010100': 47, '110001': 1, '101111': 2, '000110': 12, '101110': 13, '110010': 5, '000101': 29, '011110': 14, '010001': 1}\n",
      "experiment started: 2022-06-20 11:39:38\n",
      "experiment ended: 2022-06-20 11:39:42\n",
      "marked: [011001, 010101], outcome: \n",
      "59.66 %\n",
      "{'010100': 178, '011101': 93, '001110': 6, '100101': 51, '111011': 191, '111101': 82, '001100': 187, '100011': 105, '000011': 77, '110100': 179, '101100': 191, '110111': 21, '000000': 5966, '101101': 42, '000100': 34, '110011': 108, '011110': 33, '111100': 60, '001101': 128, '100100': 189, '001000': 98, '011011': 53, '110101': 1, '101011': 14, '000010': 18, '110110': 95, '000001': 40, '101010': 115, '011000': 166, '001010': 89, '111111': 37, '100001': 20, '001111': 6, '100110': 53, '111010': 11, '011100': 168, '101000': 165, '110010': 4, '000101': 182, '101110': 77, '100111': 12, '010010': 93, '000110': 11, '110001': 1, '101111': 13, '011010': 44, '010110': 124, '111000': 78, '011111': 17, '001011': 3, '100010': 21, '111110': 25, '010001': 12, '010011': 29, '100000': 34, '010101': 6, '010111': 46, '101001': 34, '001001': 17, '010000': 25, '011001': 10, '110000': 6, '000111': 3, '111001': 3}\n",
      "experiment started: 2022-06-20 11:39:42\n",
      "experiment ended: 2022-06-20 11:39:46\n",
      "marked: [010110, 010101], outcome: \n",
      "67.77 %\n",
      "{'110111': 4, '000000': 6777, '011110': 84, '000100': 48, '101101': 10, '110011': 85, '110100': 117, '000011': 153, '101100': 58, '100011': 94, '111101': 154, '001100': 129, '110010': 61, '000101': 171, '101110': 90, '111100': 64, '100100': 230, '001101': 79, '101010': 7, '110110': 26, '000001': 57, '001011': 6, '111110': 51, '100010': 79, '011100': 268, '011001': 20, '010010': 85, '011111': 49, '011010': 99, '100111': 12, '000110': 11, '110001': 10, '101111': 33, '111010': 13, '001111': 9, '100110': 113, '110101': 5, '000010': 40, '101011': 10, '100101': 5, '001110': 48, '111011': 158, '001010': 20, '111111': 54, '100001': 33, '011101': 91, '010001': 19, '010100': 63, '000111': 4, '110000': 14, '010000': 20, '010011': 10, '010110': 10, '011011': 4, '010101': 16, '100000': 6, '101000': 5, '011000': 7, '111001': 2}\n"
     ]
    }
   ],
   "source": [
    "from qiskit import QuantumRegister, ClassicalRegister, QuantumCircuit, execute, Aer\n",
    "from math import pi\n",
    "from qiskit.circuit.library import QFT\n",
    "from datetime import datetime\n",
    "import time\n",
    "\n",
    "for m in range(len(experiments)):\n",
    "    marked = experiments[m]\n",
    "    print('experiment started:',datetime.now().strftime('%Y-%m-%d %H:%M:%S'))\n",
    "    r_a = QuantumCircuit(num_of_layers*2+1)\n",
    "\n",
    "    # root\n",
    "    r_a = r_a.compose(d[layers[0][0]])\n",
    "\n",
    "    for i in range(1,num_of_layers+1):\n",
    "        if i%2 == 0:\n",
    "            for j in layers[i]:\n",
    "                if not j in marked:\n",
    "                    r_a = r_a.compose(d[j])\n",
    "    \n",
    "    r_b = QuantumCircuit(num_of_layers*2+1)\n",
    "\n",
    "    for i in range(1,num_of_layers+1):\n",
    "        if i%2 == 1:\n",
    "            for j in layers[i]:\n",
    "                if not j in marked:\n",
    "                    r_b = r_b.compose(d[j])\n",
    "\n",
    "    rbra = r_a\n",
    "    rbra = rbra.compose(r_b)\n",
    "\n",
    "    controlled_rbra = rbra\n",
    "    \n",
    "    phase_estimation = QuantumCircuit(num_of_layers*2+bits_of_precision,bits_of_precision)\n",
    "    phase_estimation.h(range(bits_of_precision))\n",
    "\n",
    "    operation_qubits = []\n",
    "    for i in range(bits_of_precision,num_of_layers*2+bits_of_precision):\n",
    "        operation_qubits = operation_qubits+[i]\n",
    "\n",
    "    qubits_to_appply = []\n",
    "    qubits_to_appply += [0]\n",
    "    qubits_to_appply += operation_qubits\n",
    "    for j in range(1):\n",
    "        phase_estimation = phase_estimation.compose(controlled_rbra,qubits_to_appply)\n",
    "\n",
    "    for i in range(1, bits_of_precision):\n",
    "        qubits_to_appply = []\n",
    "        qubits_to_appply += [i]\n",
    "        qubits_to_appply += operation_qubits\n",
    "        controlled_rbra = controlled_rbra.compose(controlled_rbra)\n",
    "        phase_estimation = phase_estimation.compose(controlled_rbra,qubits_to_appply)\n",
    "\n",
    "    phase_estimation.barrier()\n",
    "\n",
    "    phase_estimation = phase_estimation.compose(QFT(num_qubits=bits_of_precision, approximation_degree=0, do_swaps=False, inverse=True, insert_barriers=False, name='qft'),range(bits_of_precision))\n",
    "\n",
    "    phase_estimation.measure(range(bits_of_precision),range(bits_of_precision))\n",
    "    \n",
    "    job = execute(phase_estimation,Aer.get_backend('qasm_simulator'),shots=10000)\n",
    "    counts = job.result().get_counts(phase_estimation)\n",
    "    print('experiment ended:',datetime.now().strftime('%Y-%m-%d %H:%M:%S'))\n",
    "    print('marked: ['+', '.join(marked)+'], outcome: ')\n",
    "    n = ''\n",
    "    n = n.zfill(bits_of_precision)\n",
    "    result = counts.get(n, 0)\n",
    "    print(result/100,'%')\n",
    "    print(counts)"
   ]
  },
  {
   "cell_type": "code",
   "execution_count": null,
   "id": "cf1bf357",
   "metadata": {},
   "outputs": [],
   "source": []
  }
 ],
 "metadata": {
  "kernelspec": {
   "display_name": "Python 3",
   "language": "python",
   "name": "python3"
  },
  "language_info": {
   "codemirror_mode": {
    "name": "ipython",
    "version": 3
   },
   "file_extension": ".py",
   "mimetype": "text/x-python",
   "name": "python",
   "nbconvert_exporter": "python",
   "pygments_lexer": "ipython3",
   "version": "3.8.8"
  }
 },
 "nbformat": 4,
 "nbformat_minor": 5
}
